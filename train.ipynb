{
 "cells": [
  {
   "cell_type": "code",
   "execution_count": null,
   "id": "d4a911a7-95a6-463e-8d83-0a4773a5be7e",
   "metadata": {},
   "outputs": [],
   "source": [
    "import json\n",
    "from fastai.vision.all importorch.cuda.is_available()t *\n",
    "\n",
    "default_device()"
   ]
  },
  {
   "cell_type": "code",
   "execution_count": null,
   "id": "dddf62ea-deb3-4b52-b507-bde8ae4e1c5f",
   "metadata": {},
   "outputs": [],
   "source": [
    "torch.cuda.is_available(), torch.version.cuda"
   ]
  },
  {
   "cell_type": "code",
   "execution_count": null,
   "id": "9599ed2b-6be5-4bd8-b4c3-14278b58d89e",
   "metadata": {},
   "outputs": [],
   "source": [
    "data_base = Path(\"../../School/Senior Design\").resolve()\n",
    "data_dir = data_base / \"train_mini\"\n",
    "data_json = data_base / \"train_mini.json\"\n",
    "data_dir, data_json, data_dir.exists(), data_json.exists()"
   ]
  },
  {
   "cell_type": "code",
   "execution_count": null,
   "id": "c73aae40-32b7-4cdc-9277-bc663064f378",
   "metadata": {},
   "outputs": [],
   "source": [
    "def get_annotes(fname):\n",
    "    annot_dict = json.load(open(fname))\n",
    "    id2images, id2cats = {}, collections.defaultdict(list)\n",
    "    classes = {o['id']: o['name'] for o in annot_dict['categories']}\n",
    "    for o in annot_dict['annotations']:\n",
    "        id2cats[o['image_id']].append(classes[o['category_id']])\n",
    "    id2images = {o['id']: data_base / o['file_name'] for o in annot_dict['images']}\n",
    "    ids = list(id2images.keys())\n",
    "    return [id2images[k] for k in ids], [id2cats[k] for k in ids]\n",
    "\n",
    "imgs, labels = get_annotes(data_json)\n",
    "len(imgs), len(labels)"
   ]
  },
  {
   "cell_type": "code",
   "execution_count": null,
   "id": "0bf9e12c-f7f8-4e29-a08b-cf9bcad8cd15",
   "metadata": {},
   "outputs": [],
   "source": [
    "#imgs = [[str(fn)] for fn in imgs]\n",
    "labels = [label[0] for label in labels]\n",
    "len(imgs), len(imgs), imgs[0], labels[0]"
   ]
  },
  {
   "cell_type": "code",
   "execution_count": null,
   "id": "35c73235-88e6-475d-81b5-e5d650084be0",
   "metadata": {},
   "outputs": [],
   "source": [
    "dls = ImageDataLoaders.from_lists(data_base, imgs, labels, valid_pct=0.2,\n",
    "                                   bs=64, item_tfms=Resize(460),\n",
    "                                   batch_tfms=aug_transforms(size=224))"
   ]
  },
  {
   "cell_type": "code",
   "execution_count": null,
   "id": "9d0c29eb-9fcc-4d1f-8ab5-2482748a2e99",
   "metadata": {},
   "outputs": [],
   "source": [
    "dls.show_batch()"
   ]
  },
  {
   "cell_type": "code",
   "execution_count": null,
   "id": "c345ddb0-f98b-4bf3-aa39-7e3f7a1bdd3e",
   "metadata": {},
   "outputs": [],
   "source": [
    "learn = vision_learner(dls, resnet18, metrics=error_rate)"
   ]
  },
  {
   "cell_type": "code",
   "execution_count": null,
   "id": "20edc329-b5ff-4cff-8276-994334fe93e0",
   "metadata": {
    "tags": []
   },
   "outputs": [],
   "source": [
    "learn.lr_find()"
   ]
  },
  {
   "cell_type": "code",
   "execution_count": null,
   "id": "6a436e01-a09e-4280-be05-58a226b16d50",
   "metadata": {},
   "outputs": [],
   "source": [
    "learn.fine_tune(5, 3e-3)"
   ]
  },
  {
   "cell_type": "code",
   "execution_count": null,
   "id": "d62aaaff-b5b2-4637-9166-a79b105f0af0",
   "metadata": {},
   "outputs": [],
   "source": [
    "learn.show_results()"
   ]
  },
  {
   "cell_type": "code",
   "execution_count": null,
   "id": "b977c9af-fdda-4e8d-9f78-aeb07e7d119a",
   "metadata": {},
   "outputs": [],
   "source": []
  }
 ],
 "metadata": {
  "kernelspec": {
   "display_name": "Python 3 (ipykernel)",
   "language": "python",
   "name": "python3"
  },
  "language_info": {
   "codemirror_mode": {
    "name": "ipython",
    "version": 3
   },
   "file_extension": ".py",
   "mimetype": "text/x-python",
   "name": "python",
   "nbconvert_exporter": "python",
   "pygments_lexer": "ipython3",
   "version": "3.10.8"
  }
 },
 "nbformat": 4,
 "nbformat_minor": 5
}
